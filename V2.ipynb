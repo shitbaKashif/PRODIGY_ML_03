{
 "cells": [
  {
   "cell_type": "code",
   "execution_count": 7,
   "metadata": {},
   "outputs": [],
   "source": [
    "import os\n",
    "import numpy as np\n",
    "import pandas as pd\n",
    "import seaborn as sns\n",
    "from sklearn.svm import SVC\n",
    "import matplotlib.pyplot as plt\n",
    "from tensorflow.keras.models import Model\n",
    "from tensorflow.keras.applications import VGG16\n",
    "from sklearn.preprocessing import StandardScaler\n",
    "from sklearn.model_selection import train_test_split\n",
    "from tensorflow.keras.applications.vgg16 import preprocess_input\n",
    "from tensorflow.keras.preprocessing.image import img_to_array, load_img\n",
    "from sklearn.metrics import classification_report, accuracy_score, confusion_matrix"
   ]
  },
  {
   "cell_type": "markdown",
   "metadata": {},
   "source": [
    "#### Loading images"
   ]
  },
  {
   "cell_type": "code",
   "execution_count": 8,
   "metadata": {},
   "outputs": [],
   "source": [
    "CatDir = './train/cats'\n",
    "DogDir = './train/dogs'\n",
    "Images = []\n",
    "Labels = []\n",
    "ImgSize = 224  # VGG16 expects 224x224 images\n",
    "\n",
    "# Load cat images (label is 0)\n",
    "for filename in os.listdir(CatDir):\n",
    "    ImgPath = os.path.join(CatDir, filename)\n",
    "    img = load_img(ImgPath, target_size=(ImgSize, ImgSize))\n",
    "    ImgArr = img_to_array(img)\n",
    "    Images.append(ImgArr)\n",
    "    Labels.append(0)\n",
    "\n",
    "# Load dog images (label is 1)\n",
    "for filename in os.listdir(DogDir):\n",
    "    ImgPath = os.path.join(DogDir, filename)\n",
    "    img = load_img(ImgPath, target_size=(ImgSize, ImgSize))\n",
    "    ImgArr = img_to_array(img)\n",
    "    Images.append(ImgArr)\n",
    "    Labels.append(1)"
   ]
  },
  {
   "cell_type": "markdown",
   "metadata": {},
   "source": [
    "#### Pre-processing (improved by using CNN i.e. VGG16)"
   ]
  },
  {
   "cell_type": "code",
   "execution_count": 9,
   "metadata": {},
   "outputs": [
    {
     "name": "stdout",
     "output_type": "stream",
     "text": [
      "22/22 [==============================] - 45s 2s/step\n"
     ]
    }
   ],
   "source": [
    "Images = np.array(Images)\n",
    "Labels = np.array(Labels)\n",
    "Images = preprocess_input(Images)\n",
    "\n",
    "# Loading the pre-trained VGG16 model + higher level layers\n",
    "BaseModel = VGG16(weights='imagenet')\n",
    "model = Model(inputs=BaseModel.input, outputs=BaseModel.get_layer('fc1').output)\n",
    "\n",
    "# Extracting Features\n",
    "Features = model.predict(Images)\n",
    "XTrain, XTest, YTrain, YTest = train_test_split(Features, Labels, test_size=0.2, random_state=42)\n",
    "scaler = StandardScaler()\n",
    "XTrain = scaler.fit_transform(XTrain)\n",
    "XTest = scaler.transform(XTest)"
   ]
  },
  {
   "cell_type": "markdown",
   "metadata": {},
   "source": [
    "#### SVM Model"
   ]
  },
  {
   "cell_type": "code",
   "execution_count": 10,
   "metadata": {},
   "outputs": [],
   "source": [
    "SVM = SVC(kernel='linear', random_state=42)\n",
    "SVM.fit(XTrain, YTrain)\n",
    "YPred = SVM.predict(XTest)"
   ]
  },
  {
   "cell_type": "markdown",
   "metadata": {},
   "source": [
    "#### Evaluating the model"
   ]
  },
  {
   "cell_type": "code",
   "execution_count": 11,
   "metadata": {},
   "outputs": [
    {
     "name": "stdout",
     "output_type": "stream",
     "text": [
      "Accuracy: 0.9429\n",
      "Classification Report:\n",
      "              precision    recall  f1-score   support\n",
      "\n",
      "           0       0.93      0.97      0.95        78\n",
      "           1       0.97      0.90      0.93        62\n",
      "\n",
      "    accuracy                           0.94       140\n",
      "   macro avg       0.95      0.94      0.94       140\n",
      "weighted avg       0.94      0.94      0.94       140\n",
      "\n"
     ]
    }
   ],
   "source": [
    "Acc = accuracy_score(YTest, YPred)\n",
    "print(f'Accuracy: {Acc:.4f}')\n",
    "print('Classification Report:')\n",
    "print(classification_report(YTest, YPred))"
   ]
  },
  {
   "cell_type": "markdown",
   "metadata": {},
   "source": [
    "#### Visualizing Confusion Matrix"
   ]
  },
  {
   "cell_type": "code",
   "execution_count": 12,
   "metadata": {},
   "outputs": [
    {
     "data": {
      "image/png": "[encoded data removed]",
      "text/plain": [
       "<Figure size 640x480 with 2 Axes>"
      ]
     },
     "metadata": {},
     "output_type": "display_data"
    }
   ],
   "source": [
    "ConfusionMat = confusion_matrix(YTest, YPred)\n",
    "sns.heatmap(ConfusionMat, annot=True, fmt='d', cmap='Blues')\n",
    "plt.xlabel('Predicted')\n",
    "plt.ylabel('Actual')\n",
    "plt.show()"
   ]
  }
 ],
 "metadata": {
  "kernelspec": {
   "display_name": "Python 3",
   "language": "python",
   "name": "python3"
  },
  "language_info": {
   "codemirror_mode": {
    "name": "ipython",
    "version": 3
   },
   "file_extension": ".py",
   "mimetype": "text/x-python",
   "name": "python",
   "nbconvert_exporter": "python",
   "pygments_lexer": "ipython3",
   "version": "3.10.9"
  }
 },
 "nbformat": 4,
 "nbformat_minor": 2
}
