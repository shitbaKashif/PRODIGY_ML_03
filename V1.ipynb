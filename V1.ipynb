{
 "cells": [
  {
   "cell_type": "code",
   "execution_count": 11,
   "metadata": {},
   "outputs": [],
   "source": [
    "import os\n",
    "import cv2\n",
    "import numpy as np\n",
    "import seaborn as sns\n",
    "from sklearn.svm import SVC\n",
    "import matplotlib.pyplot as plt\n",
    "from sklearn.metrics import confusion_matrix\n",
    "from sklearn.preprocessing import StandardScaler\n",
    "from sklearn.model_selection import train_test_split\n",
    "from sklearn.metrics import classification_report, accuracy_score"
   ]
  },
  {
   "cell_type": "markdown",
   "metadata": {},
   "source": [
    "#### Loading images"
   ]
  },
  {
   "cell_type": "code",
   "execution_count": 12,
   "metadata": {},
   "outputs": [],
   "source": [
    "# Set paths to your dataset\n",
    "CatDir = './train/cats'\n",
    "DogDir = './train/dogs'\n",
    "Images = []\n",
    "Labels = []\n",
    "ImgSize = 64\n",
    "# Label for cats is zero\n",
    "for filename in os.listdir(CatDir):\n",
    "    ImgPath = os.path.join(CatDir, filename)\n",
    "    Img = cv2.imread(ImgPath)\n",
    "    if Img is not None:\n",
    "        Img = cv2.resize(Img, (ImgSize, ImgSize))\n",
    "        Images.append(Img)\n",
    "        Labels.append(0)\n",
    "\n",
    "# Label for dogs is one\n",
    "for filename in os.listdir(DogDir):\n",
    "    ImgPath = os.path.join(DogDir, filename)\n",
    "    Img = cv2.imread(ImgPath)\n",
    "    if Img is not None:\n",
    "        Img = cv2.resize(Img, (ImgSize, ImgSize))\n",
    "        Images.append(Img)\n",
    "        Labels.append(1)\n"
   ]
  },
  {
   "cell_type": "markdown",
   "metadata": {},
   "source": [
    "#### Preprocessing"
   ]
  },
  {
   "cell_type": "code",
   "execution_count": 13,
   "metadata": {},
   "outputs": [],
   "source": [
    "Images = np.array(Images)\n",
    "Labels = np.array(Labels)\n",
    "\n",
    "# Flattening images for input\n",
    "n_samples = len(Images)\n",
    "Images = Images.reshape((n_samples, -1))\n",
    "XTrain, XTest, YTrain, YTest = train_test_split(Images, Labels, test_size=0.2, random_state=42)\n",
    "scaler = StandardScaler()\n",
    "XTrain = scaler.fit_transform(XTrain)\n",
    "XTest = scaler.transform(XTest)"
   ]
  },
  {
   "cell_type": "markdown",
   "metadata": {},
   "source": [
    "#### SVM Model"
   ]
  },
  {
   "cell_type": "code",
   "execution_count": 14,
   "metadata": {},
   "outputs": [],
   "source": [
    "SVM = SVC(kernel='linear', random_state=42)\n",
    "SVM.fit(XTrain, YTrain)\n",
    "YPred = SVM.predict(XTest)\n"
   ]
  },
  {
   "cell_type": "markdown",
   "metadata": {},
   "source": [
    "#### Evaluating the model"
   ]
  },
  {
   "cell_type": "code",
   "execution_count": 15,
   "metadata": {},
   "outputs": [
    {
     "name": "stdout",
     "output_type": "stream",
     "text": [
      "Accuracy: 0.6286\n",
      "Classification Report:\n",
      "              precision    recall  f1-score   support\n",
      "\n",
      "           0       0.68      0.63      0.65        78\n",
      "           1       0.57      0.63      0.60        62\n",
      "\n",
      "    accuracy                           0.63       140\n",
      "   macro avg       0.63      0.63      0.63       140\n",
      "weighted avg       0.63      0.63      0.63       140\n",
      "\n"
     ]
    }
   ],
   "source": [
    "Acc = accuracy_score(YTest, YPred)\n",
    "print(f'Accuracy: {Acc:.4f}')\n",
    "print('Classification Report:')\n",
    "print(classification_report(YTest, YPred))"
   ]
  },
  {
   "cell_type": "markdown",
   "metadata": {},
   "source": [
    "#### Confusion Matrix"
   ]
  },
  {
   "cell_type": "code",
   "execution_count": 16,
   "metadata": {},
   "outputs": [
    {
     "data": {
      "image/png": "[encoded data removed]",
      "text/plain": [
       "<Figure size 640x480 with 2 Axes>"
      ]
     },
     "metadata": {},
     "output_type": "display_data"
    }
   ],
   "source": [
    "ConfusionMat = confusion_matrix(YTest, YPred)\n",
    "sns.heatmap(ConfusionMat, annot=True, fmt='d', cmap='Blues')\n",
    "plt.xlabel('Predicted')\n",
    "plt.ylabel('Actual')\n",
    "plt.show()"
   ]
  }
 ],
 "metadata": {
  "kernelspec": {
   "display_name": "Python 3",
   "language": "python",
   "name": "python3"
  },
  "language_info": {
   "codemirror_mode": {
    "name": "ipython",
    "version": 3
   },
   "file_extension": ".py",
   "mimetype": "text/x-python",
   "name": "python",
   "nbconvert_exporter": "python",
   "pygments_lexer": "ipython3",
   "version": "3.10.9"
  }
 },
 "nbformat": 4,
 "nbformat_minor": 2
}
